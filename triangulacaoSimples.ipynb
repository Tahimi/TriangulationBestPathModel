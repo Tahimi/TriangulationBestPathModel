{
  "cells": [
    {
      "cell_type": "markdown",
      "metadata": {
        "id": "view-in-github",
        "colab_type": "text"
      },
      "source": [
        "<a href=\"https://colab.research.google.com/github/Tahimi/TriangulationBestPathModel/blob/main/triangulacaoSimples.ipynb\" target=\"_parent\"><img src=\"https://colab.research.google.com/assets/colab-badge.svg\" alt=\"Open In Colab\"/></a>"
      ]
    },
    {
      "cell_type": "raw",
      "id": "476f89cf",
      "metadata": {
        "id": "476f89cf"
      },
      "source": [
        "# get problem data from GEE\n",
        "#pip install earthengine-api\n",
        "#pip install earthengine-api --upgrade\n",
        "import ee\n",
        "ee.Authenticate()\n",
        "ee.Initialize()"
      ]
    },
    {
      "cell_type": "code",
      "execution_count": null,
      "id": "42c16653",
      "metadata": {
        "id": "42c16653"
      },
      "outputs": [],
      "source": [
        "import numpy as np"
      ]
    },
    {
      "cell_type": "code",
      "execution_count": null,
      "id": "8401d0f1",
      "metadata": {
        "id": "8401d0f1"
      },
      "outputs": [],
      "source": [
        "from PIL import Image, ImageOps\n",
        "def imageSizeInPixels(fileName):\n",
        "    with Image.open(fileName) as image:\n",
        "        return np.array(image.size) # [width, height]"
      ]
    },
    {
      "cell_type": "code",
      "execution_count": null,
      "id": "e9cdad0f",
      "metadata": {
        "id": "e9cdad0f"
      },
      "outputs": [],
      "source": [
        "problemParams = {'backgroungImageFileName':'adim.jpg'}\n",
        "print(imageSizeInPixels(problemParams['backgroungImageFileName']))"
      ]
    },
    {
      "cell_type": "code",
      "execution_count": null,
      "id": "e531b17f",
      "metadata": {
        "id": "e531b17f"
      },
      "outputs": [],
      "source": [
        "#pip install utm\n",
        "import utm\n",
        "def GEEPositionInMetersFromLatitudeLongitude(latitudeLongitudeCoordinates):\n",
        "    latitude = latitudeLongitudeCoordinates[0]; longitude = latitudeLongitudeCoordinates[1]\n",
        "    xh, xv, zone, ut = utm.from_latlon(latitude,longitude)\n",
        "    return np.array([xh,xv])"
      ]
    },
    {
      "cell_type": "code",
      "execution_count": null,
      "id": "97be9b65",
      "metadata": {
        "id": "97be9b65"
      },
      "outputs": [],
      "source": [
        "GEEPositionInMetersFromLatitudeLongitude([1,1])"
      ]
    },
    {
      "cell_type": "code",
      "execution_count": null,
      "id": "951a67fb",
      "metadata": {
        "id": "951a67fb"
      },
      "outputs": [],
      "source": [
        "problemParams.update({'ElevationImage':{'fileName':'test_2.png',\n",
        "                                        'pixelSizeInMeters':np.array([30,30]),\n",
        "                                        'latitudeLongitude':[1.,1.]},\n",
        "                      'pixelsInCell':[1,1]})\n",
        "\n",
        "def gridParamsFromImage():\n",
        "    imageParams = problemParams['ElevationImage']\n",
        "\n",
        "    imageSizeInPixels_ = imageSizeInPixels(imageParams['fileName'])\n",
        "    gridSizeInPixels = imageSizeInPixels_\n",
        "    gridSizeInMeters = gridSizeInPixels * imageParams['pixelSizeInMeters']\n",
        "    gridSizeInIdx = (gridSizeInPixels / np.array(problemParams['pixelsInCell'])).astype(int)\n",
        "    cellSizeInMeters = gridSizeInMeters / gridSizeInIdx\n",
        "\n",
        "    gridParams = {'latitudeLongitude':imageParams['latitudeLongitude'],\n",
        "                   'sizeInPixels':gridSizeInPixels,\n",
        "                   'sizeInMeters':gridSizeInMeters,\n",
        "                   'sizeInIdx':gridSizeInIdx,\n",
        "                   'Cell':{'sizeInPixels':problemParams['pixelsInCell'],\n",
        "                           'sizeInMeters':cellSizeInMeters}}\n",
        "    gridParams.update({'GEEPositionInMeters':GEEPositionInMetersFromLatitudeLongitude(gridParams['latitudeLongitude'])})\n",
        "\n",
        "    return gridParams"
      ]
    },
    {
      "cell_type": "code",
      "execution_count": null,
      "id": "765c480f",
      "metadata": {
        "id": "765c480f"
      },
      "outputs": [],
      "source": [
        "import pprint\n",
        "gridParams = gridParamsFromImage()\n",
        "pprint.pprint(gridParams)"
      ]
    },
    {
      "cell_type": "code",
      "execution_count": null,
      "id": "212a911f",
      "metadata": {
        "id": "212a911f"
      },
      "outputs": [],
      "source": [
        "def updateGridParamsForDisplay():\n",
        "    from screeninfo import get_monitors\n",
        "    screen = get_monitors()[0]\n",
        "    screenOccupationCoeff = 0.9\n",
        "\n",
        "    windowMaxOcupationInScreenPixels = np.array([screen.width, screen.height]) * screenOccupationCoeff\n",
        "    #print(\"windowMaxOcupationInScreenPixels = \", windowMaxOcupationInScreenPixels)\n",
        "\n",
        "    screenPixelsInMeter = min(windowMaxOcupationInScreenPixels / gridParams['sizeInMeters'])\n",
        "    #print(\"screenPixelsInMeter = \", screenPixelsInMeter)\n",
        "\n",
        "    cellSizeInScreenPixels = (screenPixelsInMeter * gridParams['Cell']['sizeInMeters']).astype(int)\n",
        "    #print(\"cellSizeInScreenPixels = \", cellSizeInScreenPixels)\n",
        "\n",
        "    windowSizeInScreenPixels = cellSizeInScreenPixels * gridParams['sizeInIdx']\n",
        "    #print(\"windowSizeInScreenPixels = \", windowSizeInScreenPixels)\n",
        "    \n",
        "    gridParams.update({'sizeInScreenPixels':windowSizeInScreenPixels})\n",
        "    gridParams['Cell'].update({'sizeInScreenPixels':cellSizeInScreenPixels})"
      ]
    },
    {
      "cell_type": "code",
      "execution_count": null,
      "id": "270ddd93",
      "metadata": {
        "id": "270ddd93"
      },
      "outputs": [],
      "source": [
        "updateGridParamsForDisplay()\n",
        "pprint.pprint(gridParams)"
      ]
    },
    {
      "cell_type": "code",
      "execution_count": null,
      "id": "9c47b7f9",
      "metadata": {
        "id": "9c47b7f9"
      },
      "outputs": [],
      "source": [
        "class Cell:\n",
        "    def __init__(self, Idx, grid):\n",
        "        self.Idx = np.array(Idx) # [columnIdx, lineIdx]\n",
        "        self.grid = grid\n",
        "        self.data = {'elevation': 0.}\n",
        "        self.centerIdx = self.Idx + np.array([1/2.,1/2.])\n",
        "\n",
        "    def __eq__(self, other):\n",
        "        return np.array_equal(self.Idx, other.Idx)\n",
        "\n",
        "    def elevation(self):\n",
        "        return self.data['elevation']\n",
        "\n",
        "    def columnIdx(self):\n",
        "        return self.Idx[0]\n",
        "\n",
        "    def lineIdx(self):\n",
        "        return self.Idx[1]\n",
        "\n",
        "    def positionInScreenPixels(self):\n",
        "        return self.grid.positionInScreenPixelsFromIdx(self.Idx)\n",
        "    \n",
        "    def positionInMeters(self):\n",
        "        return self.grid.positionInMetersFromIdx(self.Idx)\n",
        "\n",
        "    def centerPositionInScreenPixels(self):\n",
        "        return self.grid.positionInScreenPixelsFromIdx(self.centerIdx)\n",
        "    \n",
        "    def centerPositionInMeters(self):\n",
        "        return self.grid.positionInMetersFromIdx(self.centerIdx)"
      ]
    },
    {
      "cell_type": "code",
      "execution_count": null,
      "id": "af08e03e",
      "metadata": {
        "id": "af08e03e"
      },
      "outputs": [],
      "source": [
        "class Grid:\n",
        "    def __init__(self, gridParams):\n",
        "        self.gridParams = gridParams\n",
        "\n",
        "        self.cellSizeInMeters = self.gridParams['Cell']['sizeInMeters']\n",
        "        self.cellSizeInScreenPixels = self.gridParams['Cell']['sizeInScreenPixels']\n",
        "        self.sizeInMeters = self.gridParams['sizeInMeters']\n",
        "        self.sizeInScreenPixels = self.gridParams['sizeInScreenPixels']\n",
        "        self.GEEPositionInMeters = self.gridParams['GEEPositionInMeters']\n",
        "        self.dim = self.gridParams['sizeInIdx'] # [columnsNbr, linesNbr]\n",
        "\n",
        "        self.makeGridCells_()\n",
        "        self.elevationIsSet = False\n",
        "\n",
        "    def makeGridCells_(self):\n",
        "        self.cells = np.ndarray(shape = self.dim, dtype=Cell)\n",
        "        for j in range(self.columnsNbr()):\n",
        "            for i in range(self.linesNbr()):\n",
        "                self.cells[j,i] = Cell([j,i], self)\n",
        "\n",
        "    def columnsNbr(self):\n",
        "        return self.dim[0] # 41\n",
        "\n",
        "    def linesNbr(self):\n",
        "        return self.dim[1] # 18\n",
        "\n",
        "    def cellsNbr(self):\n",
        "        return self.columnsNbr() * self.linesNbr()\n",
        "\n",
        "    def columnFromCell(self, cell):\n",
        "        columnIdx = cell.columnIdx()\n",
        "        return self.cells[columnIdx,:] # 18 element\n",
        "\n",
        "    def lineFromCell(self, cell):\n",
        "        lineIdx = cell.lineIdx()\n",
        "        return self.cells[:,lineIdx] # 41 element\n",
        "\n",
        "    def cellFromIdx(self, idx):\n",
        "        columnIdx = int(idx[0]); lineIdx = int(idx[1])\n",
        "        return self.cells[columnIdx, lineIdx]\n",
        "\n",
        "    def positionInScreenPixelsFromIdx(self, idx):\n",
        "        return (idx * self.cellSizeInScreenPixels).astype(int)\n",
        "    \n",
        "    def positionInMetersFromIdx(self, idx):\n",
        "        positionIn2D = idx * self.cellSizeInMeters\n",
        "        return np.append(positionIn2D, self.cellFromIdx(idx).elevation())\n",
        "\n",
        "    def idxFromPositionInMeters(self, positionInMeters):\n",
        "        positionIn2D = positionInMeters[:2]\n",
        "        return positionIn2D / self.cellSizeInMeters\n",
        "\n",
        "    def idxFromPositionInScreenPixels(self, positionInScreenPixels):\n",
        "        return positionInScreenPixels / self.cellSizeInScreenPixels\n",
        "    \n",
        "    def cellFromPositionInMeters(self, positionInMeters):\n",
        "        idx = self.idxFromPositionInMeters(positionInMeters)\n",
        "        return self.cellFromIdx(idx)\n",
        "    \n",
        "    def cellFromPositionInScreenPixels(self, positionInScreenPixels):\n",
        "        idx = self.idxFromPositionInScreenPixels(positionInScreenPixels)\n",
        "        return self.cellFromIdx(idx)\n",
        "\n",
        "    '''def cellAtLatitudeLongitude(self, latitudeLongitude):\n",
        "        GEEPositionInMetersOfCell = GEEPositionInMetersFromLatitudeLongitude(latitudeLongitude)\n",
        "        positionInMeters2D = GEEPositionInMetersOfCell - self.GEEPositionInMeters\n",
        "        return self.cellAtPositionInMeters(positionInMeters2D)\n",
        "\n",
        "    def latitudeLongitudeOfCell(self, cell):\n",
        "        GEEPositionInMetersOfCell = self.GEEPositionInMeters + cell.centerPositionInMeters2D()'''\n",
        "    \n",
        "    def cellsIdx(self, cells):\n",
        "        listOfIdxs = []\n",
        "        for cell in cells:\n",
        "            listOfIdxs.append(cell.Idx)\n",
        "        return listOfIdxs\n",
        "\n",
        "    def setElevation(self):\n",
        "        for j in range(self.columnsNbr()):\n",
        "            for i in range(self.linesNbr()):\n",
        "                self.cells[j,i].data['elevation'] = elevation[j,i]\n",
        "        self.elevationIsSet = True"
      ]
    },
    {
      "cell_type": "code",
      "execution_count": null,
      "id": "984c0476",
      "metadata": {
        "id": "984c0476"
      },
      "outputs": [],
      "source": [
        "grid = Grid(gridParams)"
      ]
    },
    {
      "cell_type": "code",
      "execution_count": null,
      "id": "d7d05140",
      "metadata": {
        "id": "d7d05140"
      },
      "outputs": [],
      "source": [
        "print(grid.dim)"
      ]
    },
    {
      "cell_type": "code",
      "execution_count": null,
      "id": "02547777",
      "metadata": {
        "id": "02547777"
      },
      "outputs": [],
      "source": [
        "A = grid.cellFromIdx([2,3])\n",
        "print(\"A.columnIdx() = \", A.columnIdx())\n",
        "print(\"A.lineIdx() = \", A.lineIdx())"
      ]
    },
    {
      "cell_type": "code",
      "execution_count": null,
      "id": "5831819d",
      "metadata": {
        "id": "5831819d"
      },
      "outputs": [],
      "source": [
        "for cell in grid.columnFromCell(A):\n",
        "    print(\"cell.Idx = \", cell.Idx)"
      ]
    },
    {
      "cell_type": "code",
      "execution_count": null,
      "id": "14d441ae",
      "metadata": {
        "id": "14d441ae"
      },
      "outputs": [],
      "source": [
        "leftSemiColumn = grid.columnFromCell(A)[:A.lineIdx()]\n",
        "for cell in np.flip(leftSemiColumn):\n",
        "    print(\"cell.Idx = \", cell.Idx)"
      ]
    },
    {
      "cell_type": "code",
      "execution_count": null,
      "id": "ebd7dc76",
      "metadata": {
        "id": "ebd7dc76"
      },
      "outputs": [],
      "source": [
        "def dataFromImage(grid, fileName):\n",
        "    data = None\n",
        "    with Image.open(fileName) as image:\n",
        "        np.savetxt(fileName+\".txt\", np.matrix(image, np.float64).T, fmt=\"%3.f\", delimiter=\",\")\n",
        "        if not np.array_equal(grid.dim, image.size):\n",
        "            image = image.resize(grid.dim)\n",
        "        data = np.matrix(image, np.float64).T\n",
        "    return data"
      ]
    },
    {
      "cell_type": "code",
      "execution_count": null,
      "id": "e513f6ac",
      "metadata": {
        "id": "e513f6ac"
      },
      "outputs": [],
      "source": [
        "elevation = dataFromImage(grid, 'test_2.png')\n",
        "print(\"grid.dim = \", grid.dim, \", elevation.shape = \", elevation.shape)"
      ]
    },
    {
      "cell_type": "code",
      "execution_count": null,
      "id": "b31b33e0",
      "metadata": {
        "id": "b31b33e0"
      },
      "outputs": [],
      "source": [
        "print(\"elevation.shape = \", elevation.shape)\n",
        "print(\"elevation[0,1] = \", elevation[0,1])"
      ]
    },
    {
      "cell_type": "code",
      "execution_count": null,
      "id": "0792a627",
      "metadata": {
        "id": "0792a627"
      },
      "outputs": [],
      "source": [
        "grid.setElevation()"
      ]
    },
    {
      "cell_type": "code",
      "execution_count": null,
      "id": "e45f7042",
      "metadata": {
        "id": "e45f7042"
      },
      "outputs": [],
      "source": [
        "import os, sys\n",
        "print(os.getcwd())\n",
        "sys.path.insert(0, os.getcwd())"
      ]
    },
    {
      "cell_type": "code",
      "execution_count": null,
      "id": "0734da0b",
      "metadata": {
        "id": "0734da0b"
      },
      "outputs": [],
      "source": [
        "# pip install pygame\n",
        "import pygame as pg\n",
        "from pygame.locals import *\n",
        "#import threading\n",
        "#import time\n",
        "\n",
        "class DisplayManager:\n",
        "    def __init__(self, grid, windowCaptionParte1 = f'Triangulacao'):\n",
        "        self.grid = grid\n",
        "        self.windowCaptionParte1 = windowCaptionParte1\n",
        "\n",
        "        self.windowDim = self.grid.gridParams['sizeInScreenPixels']\n",
        "        self.windowWidth = self.windowDim[0]\n",
        "        self.windowHeight = self.windowDim[1]\n",
        "\n",
        "        self.A = None; self.AIsSet = False\n",
        "        self.B = None; self.BIsSet = False\n",
        "        self.solver = None; self.solverIsSet = False\n",
        "        self.updateDataSpan_ = None\n",
        "        \n",
        "        self.backgroundImage = pg.image.load(problemParams['backgroungImageFileName'])\n",
        "        self.backgroundImage = pg.transform.scale(self.backgroundImage, self.windowDim)\n",
        "        self.initiateDisplay()\n",
        "        \n",
        "    def initiateDisplay(self):\n",
        "        pg.init()\n",
        "        pg.font.init()\n",
        "        \n",
        "        self.window = pg.display.set_mode(self.windowDim)\n",
        "        pg.display.set_caption(self.windowCaptionParte1)\n",
        "        self.window.blit(self.backgroundImage, (0,0))\n",
        "\n",
        "        self.clock = pg.time.Clock()\n",
        "        self.clock.tick()\n",
        "        self.display = True\n",
        "        self.updating = True\n",
        "        self.iter = -1\n",
        "\n",
        "    def problemIsSet(self):\n",
        "        return self.grid.elevationIsSet and self.AIsSet and self.BIsSet\n",
        "\n",
        "    def setAFromIdx(self, idx):\n",
        "        self.A = grid.cellFromIdx(idx)\n",
        "        self.grid.A = self.A\n",
        "        self.AIsSet = True\n",
        "        print(\"'A' cell selected, \", idx)\n",
        "\n",
        "    def setBFromIdx(self, idx):\n",
        "        self.B = grid.cellFromIdx(idx)\n",
        "        self.grid.B = self.B\n",
        "        self.BIsSet = True\n",
        "        print(\"'B' cell selected, \", idx)\n",
        "\n",
        "    def setSolver(self, solver):\n",
        "        self.solver = solver\n",
        "        self.solverIsSet = True\n",
        "\n",
        "    def update(self):\n",
        "        self.draw()\n",
        "        #self.printData()\n",
        "        pg.display.set_caption(self.windowCaption())\n",
        "        pg.display.flip()\n",
        "        self.processEvent()\n",
        "        \n",
        "    def draw(self):\n",
        "        if self.problemIsSet():\n",
        "            self.drawElevationField()\n",
        "            self.drawCell(self.A, pg.Color('green'), True)\n",
        "            self.drawCell(self.B, pg.Color('red'), True)\n",
        "            self.drawLine(pg.Color('blue'), self.A, self.B)\n",
        "\n",
        "        if self.solverIsSet:\n",
        "            self.drawLines(pg.Color('darkmagenta'), self.solver.bestPathCells)\n",
        "\n",
        "        self.drawGrid()\n",
        "\n",
        "    def printData(self):\n",
        "        if not self.grid.elevationIsSet: return\n",
        "        self.printElevationField()\n",
        "        \n",
        "    def drawGrid(self):\n",
        "        for j in range(self.grid.columnsNbr()):\n",
        "            for i in range(self.grid.linesNbr()):\n",
        "                cell = self.grid.cellFromIdx([j,i])\n",
        "\n",
        "                self.drawCell(cell)\n",
        "\n",
        "    def drawElevationField(self, minColor = pg.Color('black'), maxColor = pg.Color('white')):\n",
        "        if not self.grid.elevationIsSet: return\n",
        "        self.updateDataSpan()\n",
        "\n",
        "        for j in range(self.grid.columnsNbr()):\n",
        "            for i in range(self.grid.linesNbr()):\n",
        "                cell = self.grid.cellFromIdx([j,i])\n",
        "\n",
        "                dataValue = cell.elevation()\n",
        "                if self.spanOfData != 0:\n",
        "                    coeff = (dataValue - self.minExposedDataValue) / self.spanOfData\n",
        "                    color = minColor.lerp(maxColor, coeff)\n",
        "                else:\n",
        "                    color = pg.Color('gray85')\n",
        "\n",
        "                self.drawCell(cell, color, True)\n",
        "        \n",
        "    def updateDataSpan(self):\n",
        "        if self.updateDataSpan_ is None:\n",
        "            self.minExposedDataValue = +np.inf\n",
        "            self.maxExposedDataValue = -np.inf\n",
        "\n",
        "            for j in range(self.grid.columnsNbr()):\n",
        "                for i in range(self.grid.linesNbr()):\n",
        "                    cell = self.grid.cellFromIdx([j,i])\n",
        "\n",
        "                    if cell.elevation() < self.minExposedDataValue: self.minExposedDataValue = cell.elevation()\n",
        "                    if cell.elevation() > self.maxExposedDataValue: self.maxExposedDataValue = cell.elevation()\n",
        "\n",
        "            self.spanOfData = self.maxExposedDataValue - self.minExposedDataValue\n",
        "        return self.updateDataSpan_\n",
        "\n",
        "    def drawCells(self, cells, color = pg.Color('cadetblue1'), fillCell = True):\n",
        "        for cell in cells:\n",
        "            self.drawCell(cell, color, fillCell)\n",
        "\n",
        "        pg.display.flip()\n",
        "        self.processEvent()\n",
        "\n",
        "    def drawCell(self, cell, color = pg.Color('black'), fillCell = False):\n",
        "        if fillCell:\n",
        "            pg.draw.rect(self.window, color, pg.Rect(cell.positionInScreenPixels(), self.grid.cellSizeInScreenPixels))\n",
        "        else:\n",
        "            pg.draw.rect(self.window, color, pg.Rect(cell.positionInScreenPixels(), self.grid.cellSizeInScreenPixels), 1)\n",
        "\n",
        "    def drawLine(self, color, A, B):\n",
        "        pg.draw.line(self.window, color, A.centerPositionInScreenPixels(), B.centerPositionInScreenPixels(), 2)\n",
        "\n",
        "    def drawLines(self, color, cells):\n",
        "        if len(cells) < 2: return\n",
        "\n",
        "        for i in range(1, len(cells)):\n",
        "            self.drawLine(color, cells[i - 1], cells[i])\n",
        "\n",
        "    def printElevationField(self):\n",
        "        for j in range(self.grid.columnsNbr()):\n",
        "            for i in range(self.grid.linesNbr()):\n",
        "                cell = self.grid.cellFromIdx([j,i])\n",
        "\n",
        "                dataValueSTR = str(int(cell.elevation()))\n",
        "                self.printCellData(cell, dataValueSTR)\n",
        "\n",
        "    def printCellData(self, cell, dataSTR, board_thikness=1):\n",
        "        font = pg.font.SysFont('timesnewroman', 12)\n",
        "        text = font.render(dataSTR, True, pg.Color('black'), pg.Color('grey99'))\n",
        "        textRect = text.get_rect()\n",
        "        textRect.center = cell.centerPositionInScreenPixels()\n",
        "        self.window.blit(text, textRect)\n",
        "\n",
        "    def processEvent(self):\n",
        "        for event in pg.event.get():\n",
        "            if event.type == pg.QUIT:\n",
        "                self.display = False\n",
        "\n",
        "            elif event.type == pg.KEYDOWN:\n",
        "                if event.key == pg.K_SPACE:\n",
        "                    self.updating = False\n",
        "\n",
        "        while not self.updating: self.handSelection()\n",
        "        if not self.display: pg.quit()\n",
        "\n",
        "    def handSelection(self):\n",
        "        for evnt in pg.event.get():\n",
        "            if evnt.type == pg.QUIT:\n",
        "                self.display = False\n",
        "                self.updating = True\n",
        "\n",
        "            if evnt.type == pg.MOUSEBUTTONDOWN:\n",
        "                cell = self.grid.cellFromPositionInScreenPixels(pg.mouse.get_pos())\n",
        "\n",
        "                if evnt.button == 1:\n",
        "                    self.setAFromIdx(cell.Idx)\n",
        "\n",
        "                if evnt.button == 3:\n",
        "                    self.setBFromIdx(cell.Idx)\n",
        "\n",
        "            elif evnt.type == pg.KEYDOWN:\n",
        "                if evnt.key == pg.K_SPACE:\n",
        "                    self.updating = True\n",
        "\n",
        "    def windowCaption(self):\n",
        "        self.iter = self.iter + 1\n",
        "        return self.windowCaptionParte1 + \", iter: \" + str(self.iter)"
      ]
    },
    {
      "cell_type": "code",
      "execution_count": null,
      "id": "3929c3a7",
      "metadata": {
        "id": "3929c3a7"
      },
      "outputs": [],
      "source": [
        "displayManager = DisplayManager(grid)"
      ]
    },
    {
      "cell_type": "raw",
      "id": "1da67035",
      "metadata": {
        "id": "1da67035"
      },
      "source": [
        "displayManager.setAFromIdx([0,0])\n",
        "displayManager.setBFromIdx([-1,-1])"
      ]
    },
    {
      "cell_type": "code",
      "execution_count": null,
      "id": "f657b8cc",
      "metadata": {
        "id": "f657b8cc"
      },
      "outputs": [],
      "source": [
        "displayManager.initiateDisplay()\n",
        "while displayManager.display:\n",
        "    displayManager.update()"
      ]
    },
    {
      "cell_type": "code",
      "execution_count": null,
      "id": "d36900d6",
      "metadata": {
        "id": "d36900d6"
      },
      "outputs": [],
      "source": [
        "print(displayManager.A.Idx)\n",
        "print(displayManager.B.Idx)"
      ]
    },
    {
      "cell_type": "code",
      "execution_count": null,
      "id": "4b277145",
      "metadata": {
        "id": "4b277145"
      },
      "outputs": [],
      "source": [
        "problemParams.update({'waterSourceIdx':displayManager.A.Idx, 'waterDestinationIdx':displayManager.B.Idx})\n",
        "problemParams.update({'Q':1.})"
      ]
    },
    {
      "cell_type": "code",
      "execution_count": null,
      "id": "fbc38a1a",
      "metadata": {
        "scrolled": true,
        "id": "fbc38a1a"
      },
      "outputs": [],
      "source": [
        "pprint.pprint(problemParams)"
      ]
    },
    {
      "cell_type": "code",
      "execution_count": null,
      "id": "fdf79158",
      "metadata": {
        "id": "fdf79158"
      },
      "outputs": [],
      "source": [
        "import math\n",
        "def norm2Length(p1, p2):\n",
        "    dislocation = np.array(p2) - np.array(p1)\n",
        "    return math.sqrt(np.dot(dislocation.T, dislocation))\n",
        "        \n",
        "class Segment:\n",
        "    def __init__(self, grid, cI, cF):\n",
        "        self.grid = grid\n",
        "        self.cI = cI\n",
        "        self.cF = cF\n",
        "        self.norm2Length = norm2Length(self.cI.centerPositionInMeters(), self.cF.centerPositionInMeters())\n",
        "        self.profil = None\n",
        "\n",
        "    def length(self):\n",
        "        if self.profil is None: self.profil = SegmentProfil(self, self.grid)\n",
        "        return self.profil.cumulativeLength()\n",
        "\n",
        "    def maxRelativeElevation(self):\n",
        "        if self.profil is None: self.profil = SegmentProfil(self, self.grid)\n",
        "        return self.profil.maxRelativeElevation()"
      ]
    },
    {
      "cell_type": "code",
      "execution_count": null,
      "id": "fe796e3c",
      "metadata": {
        "id": "fe796e3c"
      },
      "outputs": [],
      "source": [
        "class SegmentProfil:\n",
        "    def __init__(self, segment, grid):\n",
        "        self.segment = segment\n",
        "        self.grid = grid\n",
        "        self.data = {'midPointsInMeters':[],\n",
        "                     'relativeElevations':[],\n",
        "                     'cumulativeLengths':[]}\n",
        "        self.maxRelativeElevation_ = None\n",
        "        self.process_()\n",
        "\n",
        "    def midPointsInMeters(self):\n",
        "        return self.data['midPointsInMeters']\n",
        "\n",
        "    def relativeElevations(self):\n",
        "        return self.data['relativeElevations']\n",
        "\n",
        "    def maxRelativeElevation(self):\n",
        "        if self.maxRelativeElevation_ is None:\n",
        "            self.maxRelativeElevation_ = max(self.relativeElevations())\n",
        "        return self.maxRelativeElevation_\n",
        "\n",
        "    def cumulativeLengths(self):\n",
        "        return self.data['cumulativeLengths']\n",
        "\n",
        "    def cumulativeLength(self):\n",
        "        return self.cumulativeLengths()[-1]\n",
        "\n",
        "    def intersectedGridLinesIdxs_(self, A, B, axis):\n",
        "        x0 = A[axis] #; print(\"x0 = \", x0)\n",
        "        x1 = B[axis] #; print(\"x1 = \", x1)\n",
        "        dx = x1-x0\n",
        "        xMin = min(x0, x1)\n",
        "        xMax = max(x0, x1)\n",
        "        isign = int(np.sign(x1 - x0))\n",
        "        v = [*range(int(xMin) + 1, int(xMax) + 1)] #; print(\"v = \", v)\n",
        "        if isign == -1:\n",
        "            v.reverse()\n",
        "        return v\n",
        "\n",
        "    def intersectionWithGridLines_(self, A, B, axis):\n",
        "        v = []\n",
        "        for i in self.intersectedGridLinesIdxs_(A, B, axis):\n",
        "            ti = (i - A[axis]) / (B[axis] - A[axis]) #; print(\"ti = \", ti)\n",
        "            xi = A[0] + ti * (B[0] - A[0]) #; print(\"xi = \", xi)\n",
        "            yi = A[1] + ti * (B[1] - A[1]) #; print(\"yi = \", yi)\n",
        "            v.append([ti, xi, yi])\n",
        "        return v\n",
        "\n",
        "    def process_(self):\n",
        "        A = self.segment.cI.centerIdx #; print(\"A = \", A)\n",
        "        B = self.segment.cF.centerIdx #; print(\"B = \", B)\n",
        "\n",
        "        vi = self.intersectionWithGridLines_(A, B, 0) #; print(\"vi = \", vi)\n",
        "        vj = self.intersectionWithGridLines_(A, B, 1) #; print(\"vj = \", vj)\n",
        "\n",
        "        # # making the curve connecting intersection points [t, x, y]\n",
        "        curve = [[0., A[0], A[1]]]\n",
        "        curve.extend(vi)\n",
        "        curve.extend(vj)\n",
        "        curve.extend([[1., B[0], B[1]]])\n",
        "        curve = np.array(curve)\n",
        "        curve = curve[curve[:, 0].argsort()]\n",
        "        curveInIdx = curve #; print(\"curveInIdx = \", curveInIdx)\n",
        "\n",
        "        # deleting repeated points\n",
        "        curve = [curveInIdx[0]]\n",
        "        i = 1 \n",
        "        while i < len(curveInIdx):\n",
        "            if curveInIdx[i,0] - curveInIdx[i-1,0] < 10**-6:\n",
        "                i = i+1\n",
        "            curve.append(curveInIdx[i])\n",
        "            i = i+1\n",
        "        curveInIdx = curve #; print(\"curveInIdx = \", curveInIdx)\n",
        "\n",
        "        # making the curve connecting intersection mid-points\n",
        "        curve = [[0., A[0], A[1]]]\n",
        "        for i in range(len(curveInIdx) - 1):\n",
        "            curve.append((curveInIdx[i] + curveInIdx[i + 1]) / 2.)\n",
        "        curve.append([1., B[0], B[1]])\n",
        "        curveOfMidPointsInIdx = curve #; print(\"curveOfMidPointsInIdx = \", curveOfMidPointsInIdx)\n",
        "\n",
        "        curve = []\n",
        "        for point in curveOfMidPointsInIdx:\n",
        "            curve.append(self.grid.positionInMetersFromIdx([point[1], point[2]]))\n",
        "        self.data['midPointsInMeters'] = curve #; print(\"self.data['midPointsInMeters'] = \", self.data['midPointsInMeters'])\n",
        "\n",
        "        lastPoint = self.data['midPointsInMeters'][0]\n",
        "        cumulativeLength = 0.\n",
        "        for point in self.data['midPointsInMeters']:\n",
        "            self.data['relativeElevations'].append(point[2]-lastPoint[2])\n",
        "            cumulativeLength = cumulativeLength + norm2Length(lastPoint, point)\n",
        "            self.data['cumulativeLengths'].append(cumulativeLength)\n",
        "            lastPoint = point\n",
        "\n",
        "    def intersectedCells(self):\n",
        "        cells = []\n",
        "        for i in range(1, len(self.data['midPointsInMeters'])-1):\n",
        "            cells.append(self.grid.cellFromPositionInMeters(self.data['midPointsInMeters'][i]))\n",
        "        return cells"
      ]
    },
    {
      "cell_type": "code",
      "execution_count": null,
      "id": "316e0370",
      "metadata": {
        "id": "316e0370"
      },
      "outputs": [],
      "source": [
        "AB = Segment(grid, grid.A, grid.B)"
      ]
    },
    {
      "cell_type": "code",
      "execution_count": null,
      "id": "3bd5be05",
      "metadata": {
        "id": "3bd5be05"
      },
      "outputs": [],
      "source": [
        "if AB.profil is None: print(\"None\")"
      ]
    },
    {
      "cell_type": "code",
      "execution_count": null,
      "id": "bb14ea9c",
      "metadata": {
        "id": "bb14ea9c"
      },
      "outputs": [],
      "source": [
        "print(\"AB.norm2Length = \", AB.norm2Length)"
      ]
    },
    {
      "cell_type": "code",
      "execution_count": null,
      "id": "25dddb4d",
      "metadata": {
        "id": "25dddb4d"
      },
      "outputs": [],
      "source": [
        "print(\"AB.length() = \", AB.length())"
      ]
    },
    {
      "cell_type": "code",
      "execution_count": null,
      "id": "98300e9e",
      "metadata": {
        "id": "98300e9e"
      },
      "outputs": [],
      "source": [
        "AB.profil.midPointsInMeters()"
      ]
    },
    {
      "cell_type": "code",
      "execution_count": null,
      "id": "5595b32a",
      "metadata": {
        "id": "5595b32a"
      },
      "outputs": [],
      "source": [
        "for cell in AB.profil.intersectedCells():\n",
        "    print(cell.Idx)"
      ]
    },
    {
      "cell_type": "code",
      "execution_count": null,
      "id": "4f3fda76",
      "metadata": {
        "id": "4f3fda76"
      },
      "outputs": [],
      "source": [
        "class Path:\n",
        "    def __init__(self, grid, cellsIdx):\n",
        "        self.grid = grid\n",
        "        self.cellsIdx = cellsIdx\n",
        "        \n",
        "        self.cells = []\n",
        "        for idx in self.cellsIdx:\n",
        "            cell = self.grid.cellFromIdx(idx)\n",
        "            self.cells.append(cell)\n",
        "\n",
        "        self.segments = []\n",
        "        for i in range(len(self.cells) - 1):\n",
        "            segment = Segment(self.grid, self.cells[i], self.cells[i+1])\n",
        "            self.segments.append(segment)\n",
        "\n",
        "        # compute norm2Length\n",
        "        self.norm2Length = 0.\n",
        "        for segment in self.segments:\n",
        "            self.norm2Length = self.norm2Length + segment.norm2Length\n",
        "\n",
        "        self.length_ = None\n",
        "        self.maxRelativeElevation_ = None\n",
        "\n",
        "    def length(self):\n",
        "        if self.length_ is None:\n",
        "            # compute length_\n",
        "            self.length_ = 0.\n",
        "            for segment in self.segments:\n",
        "                self.length_ = self.length_ + segment.length()\n",
        "        return self.length_\n",
        "\n",
        "    def maxRelativeElevation(self):\n",
        "        if self.maxRelativeElevation_ is None:\n",
        "            # compute maxRelativeElevation_\n",
        "            self.maxRelativeElevation_ = 0.\n",
        "            for segment in self.segments:\n",
        "                self.maxRelativeElevation_ = max(self.maxRelativeElevation_, segment.maxRelativeElevation())\n",
        "        return self.maxRelativeElevation_"
      ]
    },
    {
      "cell_type": "code",
      "execution_count": null,
      "id": "e3c70652",
      "metadata": {
        "id": "e3c70652"
      },
      "outputs": [],
      "source": [
        "projectParams = {'implementationLinearCost':1., 'energyUnitCost':1.}\n",
        "class CostManager:\n",
        "    def __init__(self, projectParams):\n",
        "        self.projectParams = projectParams\n",
        "\n",
        "    def implementationCost(self, path):\n",
        "        return path.length() * self.projectParams['implementationLinearCost']\n",
        "\n",
        "    def energyCost(self, path):\n",
        "        return path.maxRelativeElevation() * self.projectParams['energyUnitCost']\n",
        "\n",
        "    def totalCost(self, path):\n",
        "        return self.implementationCost(path) + self.energyCost(path)\n",
        "    \n",
        "    def roughCost(self, path):\n",
        "        return path.norm2Length * self.projectParams['implementationLinearCost']"
      ]
    },
    {
      "cell_type": "code",
      "execution_count": null,
      "id": "daea4934",
      "metadata": {
        "id": "daea4934"
      },
      "outputs": [],
      "source": [
        "ABPath = Path(grid, grid.cellsIdx([grid.A, grid.B]))"
      ]
    },
    {
      "cell_type": "code",
      "execution_count": null,
      "id": "972a3379",
      "metadata": {
        "id": "972a3379"
      },
      "outputs": [],
      "source": [
        "print(\"ABPath.norm2Length = \", ABPath.norm2Length)\n",
        "print(\"ABPath.length() = \", ABPath.length())"
      ]
    },
    {
      "cell_type": "code",
      "execution_count": null,
      "id": "791a619c",
      "metadata": {
        "id": "791a619c"
      },
      "outputs": [],
      "source": [
        "costManager = CostManager(projectParams)\n",
        "print(\"roughCost = \", costManager.roughCost(ABPath))\n",
        "print(\"totalCost = \", costManager.totalCost(ABPath))"
      ]
    },
    {
      "cell_type": "code",
      "execution_count": null,
      "id": "8b2680d3",
      "metadata": {
        "id": "8b2680d3"
      },
      "outputs": [],
      "source": [
        "class Solver:\n",
        "    def __init__(self, displayManager):\n",
        "        self.displayManager = displayManager\n",
        "        self.displayManager.setSolver(self)\n",
        "        self.grid = self.displayManager.grid\n",
        "        self.A = self.displayManager.A\n",
        "        self.B = self.displayManager.B\n",
        "        self.costManager = CostManager(projectParams)\n",
        "\n",
        "    def solve(self):\n",
        "        minTotalCost = self.costManager.totalCost(Path(self.grid,[self.A.Idx,self.B.Idx]))\n",
        "        self.selectedMinCosts = [minTotalCost]\n",
        "        self.bestPathCells = [self.A]\n",
        "        print(self.bestPathCells[-1].Idx, \" \", \"{:.6f}\".format(self.selectedMinCosts[-1]))\n",
        "\n",
        "        while True:\n",
        "            self.updateCMs()\n",
        "            minTotalCost = +np.inf\n",
        "            for CM in self.CMs:\n",
        "                #print('CM.Idx = ', CM.Idx)\n",
        "                if CM == self.currentCell: continue\n",
        "                twoSegmentsPath = Path(self.grid, [self.currentCell.Idx, CM.Idx, self.B.Idx])\n",
        "                roughCost = self.costManager.roughCost(twoSegmentsPath)\n",
        "                if self.costManager.roughCost(twoSegmentsPath) > minTotalCost: continue\n",
        "                totalCost = self.costManager.totalCost(twoSegmentsPath)\n",
        "                '''implementationCost = self.costManager.implementationCost(twoSegmentsPath)\n",
        "                energyCost = self.costManager.energyCost(twoSegmentsPath)'''\n",
        "                if totalCost < minTotalCost:\n",
        "                    '''print(\"--> tubCost = \", \"{:.4f}\".format(implementationCost),\n",
        "                          \", energyCost = \", \"{:.4f}\".format(energyCost),\n",
        "                          \", totalCost = \", \"{:.4f}\".format(totalCost),\n",
        "                          \", minTotalCost = \", \"{:.4f}\".format(minTotalCost))'''\n",
        "                    minTotalCost = totalCost\n",
        "                    selectedCM = CM\n",
        "\n",
        "            self.bestPathCells.append(selectedCM)\n",
        "            self.selectedMinCosts.append(minTotalCost)\n",
        "            print(self.bestPathCells[-1].Idx, \" \", \"{:.6f}\".format(self.selectedMinCosts[-1]))\n",
        "\n",
        "            if self.bestPathCells[-1] == self.B: return\n",
        "    \n",
        "    def updateCMs(self):\n",
        "        self.updateCMOfReference()\n",
        "        \n",
        "        A = self.CMOfReference\n",
        "        column = grid.columnFromCell(A); line = grid.lineFromCell(A)\n",
        "        columnIdx = A.columnIdx(); lineIdx = A.lineIdx()\n",
        "\n",
        "        self.CMs = [A]\n",
        "        leftSemiColumn = column[:lineIdx]; self.CMs.extend(leftSemiColumn)\n",
        "        leftSemiLine = line[:columnIdx]; self.CMs.extend(leftSemiLine)\n",
        "        rightSemiColumn = column[lineIdx+1:]; self.CMs.extend(rightSemiColumn)\n",
        "        rightSemiLine = line[columnIdx+1:]; self.CMs.extend(rightSemiLine)\n",
        "        \n",
        "    def updateCMOfReference(self):\n",
        "        self.currentCell = self.bestPathCells[-1]\n",
        "        \n",
        "        deltaJ = np.sign(self.B.columnIdx() - self.currentCell.columnIdx())\n",
        "        nextColumnIdx = self.currentCell.columnIdx() + deltaJ\n",
        "        \n",
        "        deltaI = np.sign(self.B.lineIdx() - self.currentCell.lineIdx())\n",
        "        nextLineIdx = self.currentCell.lineIdx() + deltaI\n",
        "        \n",
        "        self.CMOfReference = self.grid.cellFromIdx([nextColumnIdx, nextLineIdx])\n",
        "        #print('self.CMOfReference.Idx = ' , self.CMOfReference.Idx)\n",
        "\n",
        "    def totalCost(self, path):\n",
        "        return self.costManager.totalCost(path)\n",
        "\n",
        "    def bestPathTotalCost(self):\n",
        "        return self.totalCost(self.bestPath())\n",
        "\n",
        "    def bestPath(self):\n",
        "        return Path(self.grid, self.grid.cellsIdx(self.bestPathCells))"
      ]
    },
    {
      "cell_type": "code",
      "execution_count": null,
      "id": "81f8c6f7",
      "metadata": {
        "id": "81f8c6f7"
      },
      "outputs": [],
      "source": [
        "solver = Solver(displayManager)"
      ]
    },
    {
      "cell_type": "code",
      "execution_count": null,
      "id": "7ccda6b6",
      "metadata": {
        "scrolled": false,
        "id": "7ccda6b6"
      },
      "outputs": [],
      "source": [
        "import timeit, time, datetime\n",
        "\n",
        "print(\"problemParams = \"); pprint.pprint(problemParams); print()\n",
        "print(\"gridParams = \"); pprint.pprint(gridParams); print()\n",
        "\n",
        "print(\"Simulation start:Searching the best path from A to B...\\n\")\n",
        "simStartInstant = timeit.default_timer()\n",
        "solver.solve()\n",
        "deltaT = timeit.default_timer() - simStartInstant\n",
        "print(\"\\nbestPathTotalCost = \", \"{:.0f}\".format(solver.bestPathTotalCost()))\n",
        "print(\"The simulation took: \", datetime.timedelta(seconds = deltaT),\" (hh:mm:ss)\")"
      ]
    },
    {
      "cell_type": "code",
      "execution_count": null,
      "id": "7ab91935",
      "metadata": {
        "id": "7ab91935"
      },
      "outputs": [],
      "source": [
        "for cell in solver.bestPathCells:\n",
        "    print(cell.Idx)"
      ]
    },
    {
      "cell_type": "code",
      "execution_count": null,
      "id": "1a7d7aae",
      "metadata": {
        "id": "1a7d7aae"
      },
      "outputs": [],
      "source": [
        "displayManager.initiateDisplay()\n",
        "while displayManager.display:\n",
        "    displayManager.update()"
      ]
    },
    {
      "cell_type": "code",
      "execution_count": null,
      "id": "1c649196",
      "metadata": {
        "id": "1c649196"
      },
      "outputs": [],
      "source": [
        "solver.bestPathTotalCost()"
      ]
    },
    {
      "cell_type": "raw",
      "id": "1cc0182c",
      "metadata": {
        "id": "1cc0182c"
      },
      "source": [
        "path1 = Path(solver.grid, [[1,1], solver.B.Idx])\n",
        "path2 = Path(solver.grid, [[1,1], [1,2], solver.B.Idx])"
      ]
    },
    {
      "cell_type": "raw",
      "id": "a5d568c2",
      "metadata": {
        "id": "a5d568c2"
      },
      "source": [
        "print(\"path1.length() = \", path1.length())\n",
        "print(\"path2.length() = \", path2.length())"
      ]
    },
    {
      "cell_type": "raw",
      "id": "58eebc19",
      "metadata": {
        "id": "58eebc19"
      },
      "source": [
        "class Solver(Solver):\n",
        "\n",
        "    def solve(self, tolerance = 0.):\n",
        "        self.tolerance = tolerance\n",
        "        self. iterIdx = 0\n",
        "\n",
        "        print(\"Simulation start:Searching the best path from A to B...\\n\")\n",
        "        simStartInstant = timeit.default_timer()\n",
        "\n",
        "        minTotalCost = self.costManager.totalCost(Path(self.grid,[self.A.Idx,self.B.Idx]))\n",
        "        self.selectedMinCosts = [minTotalCost]\n",
        "        self.bestPathCells = [self.A]\n",
        "        print(\"iter. \", self.iterIdx,\": \", self.bestPathCells[-1].Idx, \" \", \"{:.6f}\".format(self.selectedMinCosts[-1]))\n",
        "\n",
        "        while True:\n",
        "            self. iterIdx = self. iterIdx + 1\n",
        "            self.updateCMs()\n",
        "            minTotalCost = +np.inf\n",
        "            if self.iterIdx == 2: totalCostUpperBound = minTotalCost + self.tolerance\n",
        "\n",
        "            print('self.currentCell.Idx = ', self.currentCell.Idx, ', self.CMOfReference.Idx = ' , self.CMOfReference.Idx)\n",
        "            for CM in self.CMs:\n",
        "                #print('self. iterIdx = ', self. iterIdx, ', CM.Idx = ', CM.Idx, ', minTotalCost = ', minTotalCost)\n",
        "                if CM == self.currentCell: continue\n",
        "                twoSegmentsPath = Path(self.grid, [self.currentCell.Idx, CM.Idx, self.B.Idx])\n",
        "                roughCost = self.costManager.roughCost(twoSegmentsPath)\n",
        "                if self.costManager.roughCost(twoSegmentsPath) > minTotalCost: continue\n",
        "                totalCost = self.costManager.totalCost(twoSegmentsPath)\n",
        "                '''implementationCost = self.costManager.implementationCost(twoSegmentsPath)\n",
        "                energyCost = self.costManager.energyCost(twoSegmentsPath)'''\n",
        "                totalCostUpperBound = minTotalCost + self.tolerance if self.iterIdx > 2 else minTotalCost\n",
        "                print('totalCost = ', totalCost, \", totalCostUpperBound = \", totalCostUpperBound, ', minTotalCost = ', minTotalCost)\n",
        "                #print(\"totalCostUpperBound = \", totalCostUpperBound)\n",
        "                if totalCost < totalCostUpperBound:\n",
        "                    '''print(\"--> tubCost = \", \"{:.4f}\".format(implementationCost),\n",
        "                          \", energyCost = \", \"{:.4f}\".format(energyCost),\n",
        "                          \", totalCost = \", \"{:.4f}\".format(totalCost),\n",
        "                          \", minTotalCost = \", \"{:.4f}\".format(minTotalCost))'''\n",
        "                    minTotalCost = totalCost\n",
        "                    selectedCM = CM\n",
        "\n",
        "            self.bestPathCells.append(selectedCM)\n",
        "            self.selectedMinCosts.append(minTotalCost)\n",
        "            print(\"iter. \", self.iterIdx,\": \", self.bestPathCells[-1].Idx, \" \", \"{:.6f}\".format(self.selectedMinCosts[-1]))\n",
        "\n",
        "            if self.bestPathCells[-1] == self.B:\n",
        "                deltaT = timeit.default_timer() - simStartInstant\n",
        "                print(\"\\nbestPathTotalCost = \", \"{:.0f}\".format(solver.bestPathTotalCost()))\n",
        "                print(\"The simulation took: \", datetime.timedelta(seconds = deltaT),\" (hh:mm:ss)\")\n",
        "                return"
      ]
    },
    {
      "cell_type": "raw",
      "id": "57a23c90",
      "metadata": {
        "id": "57a23c90"
      },
      "source": [
        "solver2 = Solver(displayManager)"
      ]
    },
    {
      "cell_type": "raw",
      "id": "8ad6db0e",
      "metadata": {
        "id": "8ad6db0e"
      },
      "source": [
        "solver.bestPathTotalCost()/10. + 1241.4772187813749"
      ]
    },
    {
      "cell_type": "raw",
      "id": "df288832",
      "metadata": {
        "scrolled": true,
        "id": "df288832"
      },
      "source": [
        "solver2.solve(tolerance = 1000)\n",
        "#bestPaths.append(solver2.bestPath)"
      ]
    },
    {
      "cell_type": "raw",
      "id": "c5a66232",
      "metadata": {
        "id": "c5a66232"
      },
      "source": [
        "bestPaths = []"
      ]
    },
    {
      "cell_type": "raw",
      "id": "155b16eb",
      "metadata": {
        "id": "155b16eb"
      },
      "source": [
        "solver2.solve(tolerance = solver.bestPathTotalCost()/8.)\n",
        "bestPaths.append(solver2.bestPath)"
      ]
    },
    {
      "cell_type": "raw",
      "id": "bf901f03",
      "metadata": {
        "id": "bf901f03"
      },
      "source": [
        "solver2.solve(tolerance = solver.bestPathTotalCost()/5.)\n",
        "bestPaths.append(solver2.bestPath)"
      ]
    },
    {
      "cell_type": "raw",
      "id": "98120306",
      "metadata": {
        "id": "98120306"
      },
      "source": [
        "displayManager.initiateDisplay()\n",
        "while displayManager.display:\n",
        "    displayManager.update()"
      ]
    },
    {
      "cell_type": "raw",
      "id": "2a89074b",
      "metadata": {
        "id": "2a89074b"
      },
      "source": []
    }
  ],
  "metadata": {
    "kernelspec": {
      "display_name": "Python 3",
      "language": "python",
      "name": "python3"
    },
    "language_info": {
      "codemirror_mode": {
        "name": "ipython",
        "version": 3
      },
      "file_extension": ".py",
      "mimetype": "text/x-python",
      "name": "python",
      "nbconvert_exporter": "python",
      "pygments_lexer": "ipython3",
      "version": "3.8.8"
    },
    "colab": {
      "provenance": [],
      "include_colab_link": true
    }
  },
  "nbformat": 4,
  "nbformat_minor": 5
}